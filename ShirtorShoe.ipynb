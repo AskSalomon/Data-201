{
 "cells": [
  {
   "cell_type": "code",
   "execution_count": 1,
   "id": "217bcdbc-0257-4b0b-87e3-8eaec9df6f71",
   "metadata": {},
   "outputs": [],
   "source": [
    "import os as os\n",
    "import pandas as pd\n",
    "import seaborn as sns\n",
    "import numpy as np\n",
    "import matplotlib.pyplot as plt\n",
    "import subprocess"
   ]
  },
  {
   "cell_type": "code",
   "execution_count": 2,
   "id": "6824ef6c-4313-4373-8cc3-1703459c9ff5",
   "metadata": {},
   "outputs": [],
   "source": [
    "file_path_test = \"/Users/gimle/Data 201/Data 201 project 3/fashion-mnist_test.csv\"\n",
    "file_path_train = \"/Users/gimle/Data 201/Data 201 project 3/fashion-mnist_train.csv\""
   ]
  },
  {
   "cell_type": "code",
   "execution_count": 3,
   "id": "6508d82d-cbc7-48aa-9b81-dfbb6f3b6656",
   "metadata": {},
   "outputs": [
    {
     "name": "stdout",
     "output_type": "stream",
     "text": [
      "torch is installed.\n"
     ]
    }
   ],
   "source": [
    "# pytorch and nn libraries: \n",
    "\n",
    "try:\n",
    "    import torch\n",
    "    print(\"torch is installed.\")\n",
    "except ImportError:\n",
    "    print(\"Torch is not installed. Installing now...\")\n",
    "    subprocess.check_call([\"pip\", \"install\", \"torch\"])"
   ]
  },
  {
   "cell_type": "code",
   "execution_count": 4,
   "id": "4f5c17ce-f23a-4077-89cb-5702f73186f7",
   "metadata": {},
   "outputs": [
    {
     "name": "stdout",
     "output_type": "stream",
     "text": [
      "Kaggle is installed.\n"
     ]
    }
   ],
   "source": [
    "try:\n",
    "    import kaggle\n",
    "    print(\"Kaggle is installed.\")\n",
    "except ImportError:\n",
    "    print(\"Kaggle is not installed. Installing now...\")\n",
    "    subprocess.check_call([\"pip\", \"install\", \"kaggle\"])"
   ]
  },
  {
   "cell_type": "code",
   "execution_count": 8,
   "id": "42395afd-bc6b-466b-9b91-611e79b5f293",
   "metadata": {},
   "outputs": [
    {
     "name": "stdout",
     "output_type": "stream",
     "text": [
      "train file correctly installed /Users/gimle/Data 201/Data 201 project 3/fashion-mnist_train.csv\n"
     ]
    }
   ],
   "source": [
    "\n",
    "from kaggle.api.kaggle_api_extended import KaggleApi\n",
    "\n",
    "if os.path.exists(file_path_train):\n",
    "    print(\"train file correctly installed\", file_path_train)\n",
    "    \n",
    "# if kaggle.json exists \n",
    "elif os.path.exists(os.path.expanduser(\"~/.kaggle/kaggle.json\")):\n",
    "    print(\"File does not exist, but now downloading from kaggle\")\n",
    "    api = KaggleApi()\n",
    "    api.authenticate()\n",
    "    api.dataset_download_files(\"zalando-research/fashionmnist\", path='.', unzip=True)\n",
    "    if os.path.exists(file_path_train):\n",
    "        print(\"File is here:\", file_path_train)\n",
    "    else:\n",
    "        print(\"File in the wrong place pls check.\")\n",
    "else: \n",
    "    print(\"please download the file / get kaggle API: https://www.kaggle.com/docs/api\") "
   ]
  },
  {
   "cell_type": "code",
   "execution_count": 9,
   "id": "a0aafa23-08ba-49da-9536-246d293c15ec",
   "metadata": {},
   "outputs": [
    {
     "name": "stdout",
     "output_type": "stream",
     "text": [
      "zim zalandobim!\n"
     ]
    }
   ],
   "source": [
    "\n",
    "if os.path.exists(file_path_train): \n",
    "    zalando_train = pd.read_csv(file_path_train)\n",
    "    print(\"zim zalandobim!\")\n",
    "   \n",
    "else: \n",
    "    print(\"youve got fix the filepath\") "
   ]
  },
  {
   "cell_type": "code",
   "execution_count": 10,
   "id": "7075ca65-c938-41a8-a769-37ab6f30f629",
   "metadata": {},
   "outputs": [
    {
     "name": "stdout",
     "output_type": "stream",
     "text": [
      "zim zalandobim!\n"
     ]
    }
   ],
   "source": [
    "if os.path.exists(file_path_test): \n",
    "    zalando_test = pd.read_csv(file_path_test)\n",
    "    print(\"zim zalandobim!\")\n",
    "   \n",
    "else: \n",
    "    print(\"youve got fix the filepath\") "
   ]
  },
  {
   "cell_type": "code",
   "execution_count": 14,
   "id": "e5d34306-3f92-4a71-a134-54b092c050af",
   "metadata": {},
   "outputs": [
    {
     "data": {
      "text/html": [
       "<div>\n",
       "<style scoped>\n",
       "    .dataframe tbody tr th:only-of-type {\n",
       "        vertical-align: middle;\n",
       "    }\n",
       "\n",
       "    .dataframe tbody tr th {\n",
       "        vertical-align: top;\n",
       "    }\n",
       "\n",
       "    .dataframe thead th {\n",
       "        text-align: right;\n",
       "    }\n",
       "</style>\n",
       "<table border=\"1\" class=\"dataframe\">\n",
       "  <thead>\n",
       "    <tr style=\"text-align: right;\">\n",
       "      <th></th>\n",
       "      <th>label</th>\n",
       "      <th>pixel1</th>\n",
       "      <th>pixel2</th>\n",
       "      <th>pixel3</th>\n",
       "      <th>pixel4</th>\n",
       "      <th>pixel5</th>\n",
       "      <th>pixel6</th>\n",
       "      <th>pixel7</th>\n",
       "      <th>pixel8</th>\n",
       "      <th>pixel9</th>\n",
       "      <th>...</th>\n",
       "      <th>pixel775</th>\n",
       "      <th>pixel776</th>\n",
       "      <th>pixel777</th>\n",
       "      <th>pixel778</th>\n",
       "      <th>pixel779</th>\n",
       "      <th>pixel780</th>\n",
       "      <th>pixel781</th>\n",
       "      <th>pixel782</th>\n",
       "      <th>pixel783</th>\n",
       "      <th>pixel784</th>\n",
       "    </tr>\n",
       "  </thead>\n",
       "  <tbody>\n",
       "    <tr>\n",
       "      <th>0</th>\n",
       "      <td>2</td>\n",
       "      <td>0</td>\n",
       "      <td>0</td>\n",
       "      <td>0</td>\n",
       "      <td>0</td>\n",
       "      <td>0</td>\n",
       "      <td>0</td>\n",
       "      <td>0</td>\n",
       "      <td>0</td>\n",
       "      <td>0</td>\n",
       "      <td>...</td>\n",
       "      <td>0</td>\n",
       "      <td>0</td>\n",
       "      <td>0</td>\n",
       "      <td>0</td>\n",
       "      <td>0</td>\n",
       "      <td>0</td>\n",
       "      <td>0</td>\n",
       "      <td>0</td>\n",
       "      <td>0</td>\n",
       "      <td>0</td>\n",
       "    </tr>\n",
       "    <tr>\n",
       "      <th>1</th>\n",
       "      <td>9</td>\n",
       "      <td>0</td>\n",
       "      <td>0</td>\n",
       "      <td>0</td>\n",
       "      <td>0</td>\n",
       "      <td>0</td>\n",
       "      <td>0</td>\n",
       "      <td>0</td>\n",
       "      <td>0</td>\n",
       "      <td>0</td>\n",
       "      <td>...</td>\n",
       "      <td>0</td>\n",
       "      <td>0</td>\n",
       "      <td>0</td>\n",
       "      <td>0</td>\n",
       "      <td>0</td>\n",
       "      <td>0</td>\n",
       "      <td>0</td>\n",
       "      <td>0</td>\n",
       "      <td>0</td>\n",
       "      <td>0</td>\n",
       "    </tr>\n",
       "    <tr>\n",
       "      <th>2</th>\n",
       "      <td>6</td>\n",
       "      <td>0</td>\n",
       "      <td>0</td>\n",
       "      <td>0</td>\n",
       "      <td>0</td>\n",
       "      <td>0</td>\n",
       "      <td>0</td>\n",
       "      <td>0</td>\n",
       "      <td>5</td>\n",
       "      <td>0</td>\n",
       "      <td>...</td>\n",
       "      <td>0</td>\n",
       "      <td>0</td>\n",
       "      <td>0</td>\n",
       "      <td>30</td>\n",
       "      <td>43</td>\n",
       "      <td>0</td>\n",
       "      <td>0</td>\n",
       "      <td>0</td>\n",
       "      <td>0</td>\n",
       "      <td>0</td>\n",
       "    </tr>\n",
       "  </tbody>\n",
       "</table>\n",
       "<p>3 rows × 785 columns</p>\n",
       "</div>"
      ],
      "text/plain": [
       "   label  pixel1  pixel2  pixel3  pixel4  pixel5  pixel6  pixel7  pixel8  \\\n",
       "0      2       0       0       0       0       0       0       0       0   \n",
       "1      9       0       0       0       0       0       0       0       0   \n",
       "2      6       0       0       0       0       0       0       0       5   \n",
       "\n",
       "   pixel9  ...  pixel775  pixel776  pixel777  pixel778  pixel779  pixel780  \\\n",
       "0       0  ...         0         0         0         0         0         0   \n",
       "1       0  ...         0         0         0         0         0         0   \n",
       "2       0  ...         0         0         0        30        43         0   \n",
       "\n",
       "   pixel781  pixel782  pixel783  pixel784  \n",
       "0         0         0         0         0  \n",
       "1         0         0         0         0  \n",
       "2         0         0         0         0  \n",
       "\n",
       "[3 rows x 785 columns]"
      ]
     },
     "execution_count": 14,
     "metadata": {},
     "output_type": "execute_result"
    }
   ],
   "source": [
    "zalando_train.head(3)"
   ]
  },
  {
   "cell_type": "code",
   "execution_count": 15,
   "id": "542e9f32-b6dd-4ffc-8c2a-a4d09afb58dd",
   "metadata": {},
   "outputs": [
    {
     "data": {
      "text/html": [
       "<div>\n",
       "<style scoped>\n",
       "    .dataframe tbody tr th:only-of-type {\n",
       "        vertical-align: middle;\n",
       "    }\n",
       "\n",
       "    .dataframe tbody tr th {\n",
       "        vertical-align: top;\n",
       "    }\n",
       "\n",
       "    .dataframe thead th {\n",
       "        text-align: right;\n",
       "    }\n",
       "</style>\n",
       "<table border=\"1\" class=\"dataframe\">\n",
       "  <thead>\n",
       "    <tr style=\"text-align: right;\">\n",
       "      <th></th>\n",
       "      <th>label</th>\n",
       "      <th>pixel1</th>\n",
       "      <th>pixel2</th>\n",
       "      <th>pixel3</th>\n",
       "      <th>pixel4</th>\n",
       "      <th>pixel5</th>\n",
       "      <th>pixel6</th>\n",
       "      <th>pixel7</th>\n",
       "      <th>pixel8</th>\n",
       "      <th>pixel9</th>\n",
       "      <th>...</th>\n",
       "      <th>pixel775</th>\n",
       "      <th>pixel776</th>\n",
       "      <th>pixel777</th>\n",
       "      <th>pixel778</th>\n",
       "      <th>pixel779</th>\n",
       "      <th>pixel780</th>\n",
       "      <th>pixel781</th>\n",
       "      <th>pixel782</th>\n",
       "      <th>pixel783</th>\n",
       "      <th>pixel784</th>\n",
       "    </tr>\n",
       "  </thead>\n",
       "  <tbody>\n",
       "    <tr>\n",
       "      <th>0</th>\n",
       "      <td>0</td>\n",
       "      <td>0</td>\n",
       "      <td>0</td>\n",
       "      <td>0</td>\n",
       "      <td>0</td>\n",
       "      <td>0</td>\n",
       "      <td>0</td>\n",
       "      <td>0</td>\n",
       "      <td>9</td>\n",
       "      <td>8</td>\n",
       "      <td>...</td>\n",
       "      <td>103</td>\n",
       "      <td>87</td>\n",
       "      <td>56</td>\n",
       "      <td>0</td>\n",
       "      <td>0</td>\n",
       "      <td>0</td>\n",
       "      <td>0</td>\n",
       "      <td>0</td>\n",
       "      <td>0</td>\n",
       "      <td>0</td>\n",
       "    </tr>\n",
       "    <tr>\n",
       "      <th>1</th>\n",
       "      <td>1</td>\n",
       "      <td>0</td>\n",
       "      <td>0</td>\n",
       "      <td>0</td>\n",
       "      <td>0</td>\n",
       "      <td>0</td>\n",
       "      <td>0</td>\n",
       "      <td>0</td>\n",
       "      <td>0</td>\n",
       "      <td>0</td>\n",
       "      <td>...</td>\n",
       "      <td>34</td>\n",
       "      <td>0</td>\n",
       "      <td>0</td>\n",
       "      <td>0</td>\n",
       "      <td>0</td>\n",
       "      <td>0</td>\n",
       "      <td>0</td>\n",
       "      <td>0</td>\n",
       "      <td>0</td>\n",
       "      <td>0</td>\n",
       "    </tr>\n",
       "    <tr>\n",
       "      <th>2</th>\n",
       "      <td>2</td>\n",
       "      <td>0</td>\n",
       "      <td>0</td>\n",
       "      <td>0</td>\n",
       "      <td>0</td>\n",
       "      <td>0</td>\n",
       "      <td>0</td>\n",
       "      <td>14</td>\n",
       "      <td>53</td>\n",
       "      <td>99</td>\n",
       "      <td>...</td>\n",
       "      <td>0</td>\n",
       "      <td>0</td>\n",
       "      <td>0</td>\n",
       "      <td>0</td>\n",
       "      <td>63</td>\n",
       "      <td>53</td>\n",
       "      <td>31</td>\n",
       "      <td>0</td>\n",
       "      <td>0</td>\n",
       "      <td>0</td>\n",
       "    </tr>\n",
       "    <tr>\n",
       "      <th>3</th>\n",
       "      <td>2</td>\n",
       "      <td>0</td>\n",
       "      <td>0</td>\n",
       "      <td>0</td>\n",
       "      <td>0</td>\n",
       "      <td>0</td>\n",
       "      <td>0</td>\n",
       "      <td>0</td>\n",
       "      <td>0</td>\n",
       "      <td>0</td>\n",
       "      <td>...</td>\n",
       "      <td>137</td>\n",
       "      <td>126</td>\n",
       "      <td>140</td>\n",
       "      <td>0</td>\n",
       "      <td>133</td>\n",
       "      <td>224</td>\n",
       "      <td>222</td>\n",
       "      <td>56</td>\n",
       "      <td>0</td>\n",
       "      <td>0</td>\n",
       "    </tr>\n",
       "    <tr>\n",
       "      <th>4</th>\n",
       "      <td>3</td>\n",
       "      <td>0</td>\n",
       "      <td>0</td>\n",
       "      <td>0</td>\n",
       "      <td>0</td>\n",
       "      <td>0</td>\n",
       "      <td>0</td>\n",
       "      <td>0</td>\n",
       "      <td>0</td>\n",
       "      <td>0</td>\n",
       "      <td>...</td>\n",
       "      <td>0</td>\n",
       "      <td>0</td>\n",
       "      <td>0</td>\n",
       "      <td>0</td>\n",
       "      <td>0</td>\n",
       "      <td>0</td>\n",
       "      <td>0</td>\n",
       "      <td>0</td>\n",
       "      <td>0</td>\n",
       "      <td>0</td>\n",
       "    </tr>\n",
       "    <tr>\n",
       "      <th>5</th>\n",
       "      <td>2</td>\n",
       "      <td>0</td>\n",
       "      <td>0</td>\n",
       "      <td>0</td>\n",
       "      <td>0</td>\n",
       "      <td>0</td>\n",
       "      <td>44</td>\n",
       "      <td>105</td>\n",
       "      <td>44</td>\n",
       "      <td>10</td>\n",
       "      <td>...</td>\n",
       "      <td>105</td>\n",
       "      <td>64</td>\n",
       "      <td>30</td>\n",
       "      <td>0</td>\n",
       "      <td>0</td>\n",
       "      <td>0</td>\n",
       "      <td>0</td>\n",
       "      <td>0</td>\n",
       "      <td>0</td>\n",
       "      <td>0</td>\n",
       "    </tr>\n",
       "    <tr>\n",
       "      <th>6</th>\n",
       "      <td>8</td>\n",
       "      <td>0</td>\n",
       "      <td>0</td>\n",
       "      <td>0</td>\n",
       "      <td>0</td>\n",
       "      <td>0</td>\n",
       "      <td>0</td>\n",
       "      <td>0</td>\n",
       "      <td>0</td>\n",
       "      <td>0</td>\n",
       "      <td>...</td>\n",
       "      <td>0</td>\n",
       "      <td>0</td>\n",
       "      <td>0</td>\n",
       "      <td>0</td>\n",
       "      <td>0</td>\n",
       "      <td>0</td>\n",
       "      <td>0</td>\n",
       "      <td>0</td>\n",
       "      <td>0</td>\n",
       "      <td>0</td>\n",
       "    </tr>\n",
       "    <tr>\n",
       "      <th>7</th>\n",
       "      <td>6</td>\n",
       "      <td>0</td>\n",
       "      <td>0</td>\n",
       "      <td>0</td>\n",
       "      <td>0</td>\n",
       "      <td>0</td>\n",
       "      <td>0</td>\n",
       "      <td>0</td>\n",
       "      <td>1</td>\n",
       "      <td>0</td>\n",
       "      <td>...</td>\n",
       "      <td>174</td>\n",
       "      <td>136</td>\n",
       "      <td>155</td>\n",
       "      <td>31</td>\n",
       "      <td>0</td>\n",
       "      <td>1</td>\n",
       "      <td>0</td>\n",
       "      <td>0</td>\n",
       "      <td>0</td>\n",
       "      <td>0</td>\n",
       "    </tr>\n",
       "    <tr>\n",
       "      <th>8</th>\n",
       "      <td>5</td>\n",
       "      <td>0</td>\n",
       "      <td>0</td>\n",
       "      <td>0</td>\n",
       "      <td>0</td>\n",
       "      <td>0</td>\n",
       "      <td>0</td>\n",
       "      <td>0</td>\n",
       "      <td>0</td>\n",
       "      <td>0</td>\n",
       "      <td>...</td>\n",
       "      <td>0</td>\n",
       "      <td>0</td>\n",
       "      <td>0</td>\n",
       "      <td>0</td>\n",
       "      <td>0</td>\n",
       "      <td>0</td>\n",
       "      <td>0</td>\n",
       "      <td>0</td>\n",
       "      <td>0</td>\n",
       "      <td>0</td>\n",
       "    </tr>\n",
       "    <tr>\n",
       "      <th>9</th>\n",
       "      <td>0</td>\n",
       "      <td>0</td>\n",
       "      <td>0</td>\n",
       "      <td>0</td>\n",
       "      <td>0</td>\n",
       "      <td>0</td>\n",
       "      <td>0</td>\n",
       "      <td>0</td>\n",
       "      <td>0</td>\n",
       "      <td>0</td>\n",
       "      <td>...</td>\n",
       "      <td>57</td>\n",
       "      <td>70</td>\n",
       "      <td>28</td>\n",
       "      <td>0</td>\n",
       "      <td>2</td>\n",
       "      <td>0</td>\n",
       "      <td>0</td>\n",
       "      <td>0</td>\n",
       "      <td>0</td>\n",
       "      <td>0</td>\n",
       "    </tr>\n",
       "  </tbody>\n",
       "</table>\n",
       "<p>10 rows × 785 columns</p>\n",
       "</div>"
      ],
      "text/plain": [
       "   label  pixel1  pixel2  pixel3  pixel4  pixel5  pixel6  pixel7  pixel8  \\\n",
       "0      0       0       0       0       0       0       0       0       9   \n",
       "1      1       0       0       0       0       0       0       0       0   \n",
       "2      2       0       0       0       0       0       0      14      53   \n",
       "3      2       0       0       0       0       0       0       0       0   \n",
       "4      3       0       0       0       0       0       0       0       0   \n",
       "5      2       0       0       0       0       0      44     105      44   \n",
       "6      8       0       0       0       0       0       0       0       0   \n",
       "7      6       0       0       0       0       0       0       0       1   \n",
       "8      5       0       0       0       0       0       0       0       0   \n",
       "9      0       0       0       0       0       0       0       0       0   \n",
       "\n",
       "   pixel9  ...  pixel775  pixel776  pixel777  pixel778  pixel779  pixel780  \\\n",
       "0       8  ...       103        87        56         0         0         0   \n",
       "1       0  ...        34         0         0         0         0         0   \n",
       "2      99  ...         0         0         0         0        63        53   \n",
       "3       0  ...       137       126       140         0       133       224   \n",
       "4       0  ...         0         0         0         0         0         0   \n",
       "5      10  ...       105        64        30         0         0         0   \n",
       "6       0  ...         0         0         0         0         0         0   \n",
       "7       0  ...       174       136       155        31         0         1   \n",
       "8       0  ...         0         0         0         0         0         0   \n",
       "9       0  ...        57        70        28         0         2         0   \n",
       "\n",
       "   pixel781  pixel782  pixel783  pixel784  \n",
       "0         0         0         0         0  \n",
       "1         0         0         0         0  \n",
       "2        31         0         0         0  \n",
       "3       222        56         0         0  \n",
       "4         0         0         0         0  \n",
       "5         0         0         0         0  \n",
       "6         0         0         0         0  \n",
       "7         0         0         0         0  \n",
       "8         0         0         0         0  \n",
       "9         0         0         0         0  \n",
       "\n",
       "[10 rows x 785 columns]"
      ]
     },
     "execution_count": 15,
     "metadata": {},
     "output_type": "execute_result"
    }
   ],
   "source": [
    "zalando_test.head(10)"
   ]
  },
  {
   "cell_type": "code",
   "execution_count": 16,
   "id": "ee702c53-371c-4e03-8a34-ebb3402dd1c9",
   "metadata": {},
   "outputs": [
    {
     "data": {
      "text/plain": [
       "Index(['label', 'pixel1', 'pixel2', 'pixel3', 'pixel4', 'pixel5', 'pixel6',\n",
       "       'pixel7', 'pixel8', 'pixel9',\n",
       "       ...\n",
       "       'pixel775', 'pixel776', 'pixel777', 'pixel778', 'pixel779', 'pixel780',\n",
       "       'pixel781', 'pixel782', 'pixel783', 'pixel784'],\n",
       "      dtype='object', length=785)"
      ]
     },
     "execution_count": 16,
     "metadata": {},
     "output_type": "execute_result"
    }
   ],
   "source": [
    "zalando_test.columns"
   ]
  },
  {
   "cell_type": "code",
   "execution_count": 17,
   "id": "e83e6fc6-af14-48ae-9db7-eaaee625494e",
   "metadata": {},
   "outputs": [
    {
     "data": {
      "text/plain": [
       "Index(['label', 'pixel1', 'pixel2', 'pixel3', 'pixel4', 'pixel5', 'pixel6',\n",
       "       'pixel7', 'pixel8', 'pixel9',\n",
       "       ...\n",
       "       'pixel775', 'pixel776', 'pixel777', 'pixel778', 'pixel779', 'pixel780',\n",
       "       'pixel781', 'pixel782', 'pixel783', 'pixel784'],\n",
       "      dtype='object', length=785)"
      ]
     },
     "execution_count": 17,
     "metadata": {},
     "output_type": "execute_result"
    }
   ],
   "source": [
    "zalando_train.columns"
   ]
  },
  {
   "cell_type": "code",
   "execution_count": 18,
   "id": "158f4a18-c510-4eac-8ca6-b353f9b2fb17",
   "metadata": {},
   "outputs": [
    {
     "name": "stdout",
     "output_type": "stream",
     "text": [
      "label\n",
      "0    1000\n",
      "1    1000\n",
      "2    1000\n",
      "3    1000\n",
      "8    1000\n",
      "6    1000\n",
      "5    1000\n",
      "4    1000\n",
      "7    1000\n",
      "9    1000\n",
      "Name: count, dtype: int64\n"
     ]
    }
   ],
   "source": [
    "test_count = zalando_test['label'].value_counts()\n",
    "print(test_count) "
   ]
  },
  {
   "cell_type": "code",
   "execution_count": 26,
   "id": "8bc671b1-1a88-410f-8546-26a4ffa7a05f",
   "metadata": {},
   "outputs": [
    {
     "name": "stdout",
     "output_type": "stream",
     "text": [
      "label\n",
      "2    6000\n",
      "9    6000\n",
      "6    6000\n",
      "0    6000\n",
      "3    6000\n",
      "4    6000\n",
      "5    6000\n",
      "8    6000\n",
      "7    6000\n",
      "1    6000\n",
      "Name: count, dtype: int64\n"
     ]
    }
   ],
   "source": [
    "train_count = zalando_train['label'].value_counts()\n",
    "print(train_count) "
   ]
  },
  {
   "cell_type": "code",
   "execution_count": 28,
   "id": "340bc41b-4556-47ba-aee1-75af60a13978",
   "metadata": {},
   "outputs": [
    {
     "name": "stdout",
     "output_type": "stream",
     "text": [
      "The trianing dataset accounts for approximately 14.29 percent of the train + test data\n"
     ]
    }
   ],
   "source": [
    "print(\"The trianing dataset accounts for approximately\" , f\"{(1/7)*100:.2f}\" , \"percent of the train + test data\")"
   ]
  },
  {
   "cell_type": "code",
   "execution_count": 30,
   "id": "54f132c4-443a-465d-a0e8-3cde6dd9d11f",
   "metadata": {},
   "outputs": [
    {
     "name": "stdout",
     "output_type": "stream",
     "text": [
      "Requirement already satisfied: torchmetrics in /opt/anaconda3/lib/python3.12/site-packages (1.6.0)\n",
      "Requirement already satisfied: numpy>1.20.0 in /opt/anaconda3/lib/python3.12/site-packages (from torchmetrics) (1.26.4)\n",
      "Requirement already satisfied: packaging>17.1 in /opt/anaconda3/lib/python3.12/site-packages (from torchmetrics) (23.2)\n",
      "Requirement already satisfied: torch>=2.0.0 in /opt/anaconda3/lib/python3.12/site-packages (from torchmetrics) (2.5.1)\n",
      "Requirement already satisfied: lightning-utilities>=0.8.0 in /opt/anaconda3/lib/python3.12/site-packages (from torchmetrics) (0.11.9)\n",
      "Requirement already satisfied: setuptools in /opt/anaconda3/lib/python3.12/site-packages (from lightning-utilities>=0.8.0->torchmetrics) (69.5.1)\n",
      "Requirement already satisfied: typing-extensions in /opt/anaconda3/lib/python3.12/site-packages (from lightning-utilities>=0.8.0->torchmetrics) (4.11.0)\n",
      "Requirement already satisfied: filelock in /opt/anaconda3/lib/python3.12/site-packages (from torch>=2.0.0->torchmetrics) (3.13.1)\n",
      "Requirement already satisfied: networkx in /opt/anaconda3/lib/python3.12/site-packages (from torch>=2.0.0->torchmetrics) (3.2.1)\n",
      "Requirement already satisfied: jinja2 in /opt/anaconda3/lib/python3.12/site-packages (from torch>=2.0.0->torchmetrics) (3.1.4)\n",
      "Requirement already satisfied: fsspec in /opt/anaconda3/lib/python3.12/site-packages (from torch>=2.0.0->torchmetrics) (2024.3.1)\n",
      "Requirement already satisfied: sympy==1.13.1 in /opt/anaconda3/lib/python3.12/site-packages (from torch>=2.0.0->torchmetrics) (1.13.1)\n",
      "Requirement already satisfied: mpmath<1.4,>=1.1.0 in /opt/anaconda3/lib/python3.12/site-packages (from sympy==1.13.1->torch>=2.0.0->torchmetrics) (1.3.0)\n",
      "Requirement already satisfied: MarkupSafe>=2.0 in /opt/anaconda3/lib/python3.12/site-packages (from jinja2->torch>=2.0.0->torchmetrics) (2.1.3)\n",
      "Note: you may need to restart the kernel to use updated packages.\n"
     ]
    }
   ],
   "source": [
    "pip install torchmetrics"
   ]
  },
  {
   "cell_type": "code",
   "execution_count": 108,
   "id": "7e1ccd97-34d2-4d80-ac90-ba4e33229d2d",
   "metadata": {},
   "outputs": [],
   "source": [
    "# Importing necessary torch packages\n",
    "import torch\n",
    "import torch.nn as nn\n",
    "from torch.utils.data import TensorDataset, DataLoader\n",
    "import torch.optim as optim\n",
    "import torchmetrics\n",
    "from torchmetrics import Accuracy\n",
    "import torch.nn.functional as F"
   ]
  },
  {
   "cell_type": "markdown",
   "id": "8e62849f-447e-4e05-a256-487ffb11048c",
   "metadata": {},
   "source": [
    "## Formatting data: "
   ]
  },
  {
   "cell_type": "code",
   "execution_count": 35,
   "id": "de1c06d3-9f8a-4a8b-8124-e53b9316b263",
   "metadata": {},
   "outputs": [],
   "source": [
    "# Separate features and labels\n",
    "\n",
    "features = zalando_train.drop(columns=[\"label\"]).values / 255.0\n",
    "target = zalando_train[\"label\"].values\n",
    "\n",
    "features_test = zalando_test.drop(columns=[\"label\"]).values / 255.0\n",
    "target_test = zalando_test[\"label\"].values\n",
    "\n",
    "# Convert to PyTorch tensors\n",
    "\n",
    "features_tensor_train = torch.tensor(features, dtype=torch.float32)\n",
    "target_tensor_train = torch.tensor(target, dtype=torch.long)\n",
    "\n",
    "features_tensor_test = torch.tensor(features_test, dtype=torch.float32)\n",
    "target_tensor_test = torch.tensor(target_test, dtype=torch.long)"
   ]
  },
  {
   "cell_type": "code",
   "execution_count": 37,
   "id": "14165e5b-c373-4ef9-8eb3-6be79c28587e",
   "metadata": {},
   "outputs": [],
   "source": [
    "# Tensor formatting complete after this step\n",
    "train_dataset = TensorDataset(features_tensor_train, target_tensor_train)\n",
    "test_dataset = TensorDataset(features_tensor_test, target_tensor_test)\n",
    "\n",
    "# Check batch size\n",
    "train_loader = DataLoader(train_dataset, batch_size=64, shuffle=True)\n",
    "test_loader = DataLoader(test_dataset, batch_size=64, shuffle=False)"
   ]
  },
  {
   "cell_type": "markdown",
   "id": "3941ec1a-7279-4dba-8986-3d7c67ff1de6",
   "metadata": {},
   "source": [
    "## Creating a neural network for multiclass classification"
   ]
  },
  {
   "cell_type": "markdown",
   "id": "c61b6b27-b9ad-4517-a0c4-868636a360c4",
   "metadata": {},
   "source": [
    "### ReLU"
   ]
  },
  {
   "cell_type": "code",
   "execution_count": 97,
   "id": "f06f2930-a13d-41d1-8376-ede8dba364b7",
   "metadata": {},
   "outputs": [],
   "source": [
    "# The neural ReLU network: \n",
    "model = nn.Sequential(\n",
    "    nn.Linear(784, 512),\n",
    "    nn.ReLU(),\n",
    "    nn.Linear(512, 256),\n",
    "    nn.ReLU(),\n",
    "    nn.Linear(256, 256), # extra layer post success\n",
    "    nn.ReLU(),\n",
    "    nn.Linear(256, 128),\n",
    "    nn.ReLU(),\n",
    "    nn.Linear(128, 128), # extra layer post success\n",
    "    nn.ReLU(), \n",
    "    nn.Linear(128, 10)\n",
    "    )\n",
    "\n"
   ]
  },
  {
   "cell_type": "markdown",
   "id": "0982dc46-d2f5-41ab-9f2c-924a3d81a927",
   "metadata": {},
   "source": [
    "### leaky ReLU"
   ]
  },
  {
   "cell_type": "code",
   "execution_count": 84,
   "id": "5b96033c-a6fb-43f2-9381-43652cbe8200",
   "metadata": {},
   "outputs": [],
   "source": [
    "# The neural Leaky ReLU network: \n",
    "model = nn.Sequential(\n",
    "    nn.Linear(784, 512),\n",
    "    nn.LeakyReLU(negative_slope = 0.05),\n",
    "    nn.Linear(512, 256),\n",
    "    nn.LeakyReLU(negative_slope = 0.05),\n",
    "    nn.Linear(256, 256), # extra layer post success\n",
    "    nn.LeakyReLU(negative_slope = 0.05),\n",
    "    nn.Linear(256, 128),\n",
    "    nn.LeakyReLU(negative_slope = 0.05),\n",
    "    nn.Linear(128, 128), # extra layer post success\n",
    "    nn.LeakyReLU(negative_slope = 0.05), \n",
    "    nn.Linear(128, 10)\n",
    "    )"
   ]
  },
  {
   "cell_type": "code",
   "execution_count": 106,
   "id": "96ce82d6-f23a-4e78-b8de-25d5adb61bfb",
   "metadata": {},
   "outputs": [
    {
     "name": "stdout",
     "output_type": "stream",
     "text": [
      "649738\n"
     ]
    }
   ],
   "source": [
    "# Counting number of parameters in model: \n",
    "total = 0\n",
    "\n",
    "# Calculate the number of parameters in the model\n",
    "for parameter in model.parameters():\n",
    "  total += parameter.numel()\n",
    "print(total)"
   ]
  },
  {
   "cell_type": "markdown",
   "id": "add3448d-f18a-4058-8168-683f8289c41a",
   "metadata": {},
   "source": [
    "## Loss function and optimizer"
   ]
  },
  {
   "cell_type": "code",
   "execution_count": null,
   "id": "f6b59e8f-719e-4973-a08c-13a8f9a93265",
   "metadata": {},
   "outputs": [],
   "source": [
    "# Define Criterion and optimizer\n",
    "criterion = nn.CrossEntropyLoss()  "
   ]
  },
  {
   "cell_type": "code",
   "execution_count": 99,
   "id": "81487279-a863-46a6-9b7a-ced9c7bcb4ab",
   "metadata": {},
   "outputs": [],
   "source": [
    "# includes learning rate\n",
    "# success was also obtained with lr=0.037, momentum=0.917\n",
    "optimizer = optim.SGD(model.parameters(), lr=0.01, momentum=0.9)\n",
    "optimizer.step()"
   ]
  },
  {
   "cell_type": "code",
   "execution_count": null,
   "id": "2ec46c0f-223b-474c-9284-8440202f56c9",
   "metadata": {},
   "outputs": [],
   "source": [
    "# Alternative optimizer\n",
    "optimizer = torch.optim.Adam(model.parameters(), lr=0.001)\n",
    "optimizer.step()"
   ]
  },
  {
   "cell_type": "markdown",
   "id": "9567555f-ee3b-4794-b23e-baca369ffdd9",
   "metadata": {},
   "source": [
    "## Training the model"
   ]
  },
  {
   "cell_type": "code",
   "execution_count": 102,
   "id": "796d5f07-32b9-4161-ab7e-6429bf2763aa",
   "metadata": {},
   "outputs": [
    {
     "name": "stdout",
     "output_type": "stream",
     "text": [
      "Epoch 1/10, Loss: 1.124490, Accuracy: 0.584333\n",
      "Epoch 2/10, Loss: 0.478990, Accuracy: 0.828717\n",
      "Epoch 3/10, Loss: 0.396373, Accuracy: 0.856733\n",
      "Epoch 4/10, Loss: 0.358296, Accuracy: 0.870167\n",
      "Epoch 5/10, Loss: 0.336292, Accuracy: 0.876833\n",
      "Epoch 6/10, Loss: 0.313346, Accuracy: 0.883983\n",
      "Epoch 7/10, Loss: 0.301053, Accuracy: 0.889050\n",
      "Epoch 8/10, Loss: 0.287303, Accuracy: 0.894433\n",
      "Epoch 9/10, Loss: 0.273525, Accuracy: 0.898900\n",
      "Epoch 10/10, Loss: 0.264580, Accuracy: 0.901917\n"
     ]
    }
   ],
   "source": [
    "# storing metrics for visualisation\n",
    "train_metrics = []\n",
    "\n",
    "# Training loop\n",
    "num_epochs = 20 \n",
    "accuracy_metric = Accuracy(task=\"multiclass\", num_classes=10)\n",
    "\n",
    "for epoch in range(num_epochs): \n",
    "    model.train()\n",
    "    running_loss = 0.0\n",
    "    accuracy_metric.reset()\n",
    "    \n",
    "    for features, labels in train_loader: \n",
    "        # Clearing gradients\n",
    "        optimizer.zero_grad()\n",
    "        # Forward pass\n",
    "        outputs = model(features)\n",
    "        # Compute loss and gradients\n",
    "        loss = criterion(outputs, labels)\n",
    "        # Then we compute accuracy: \n",
    "        accuracy_metric.update(outputs, labels)\n",
    "        # Backwards pass\n",
    "        loss.backward()\n",
    "        # Update parameters \n",
    "        optimizer.step()\n",
    "        # iterate running loss tab\n",
    "        running_loss += loss.item()\n",
    "    \n",
    "    # creates a live list of loss and training accuracy: \n",
    "    epoch_accuracy = accuracy_metric.compute()\n",
    "    avg_loss = running_loss / len(train_loader)\n",
    "    running_accuracy = float(epoch_accuracy)\n",
    "    train_metrics.append({\n",
    "        \"epoch\": epoch + 1,\n",
    "        \"loss\": avg_loss,\n",
    "        \"accuracy\": running_accuracy\n",
    "    })\n",
    "\n",
    "    print(f\"Epoch {epoch+1}/{num_epochs}, Loss: {avg_loss:.6f}, Accuracy: {epoch_accuracy:.6f}\")\n",
    "\n",
    "train_df = pd.DataFrame.from_dict(train_metrics)"
   ]
  },
  {
   "cell_type": "code",
   "execution_count": 104,
   "id": "865c9616-3b95-42e7-aa17-c974f1a06882",
   "metadata": {},
   "outputs": [
    {
     "data": {
      "image/png": "[encoded data removed]",
      "text/plain": [
       "<Figure size 500x500 with 1 Axes>"
      ]
     },
     "metadata": {},
     "output_type": "display_data"
    },
    {
     "data": {
      "image/png": "[encoded data removed]",
      "text/plain": [
       "<Figure size 500x500 with 1 Axes>"
      ]
     },
     "metadata": {},
     "output_type": "display_data"
    }
   ],
   "source": [
    "#  visualising model training \n",
    "\n",
    "sns.relplot(x='epoch', y='accuracy', data= train_df, kind='line')\n",
    "sns.relplot(x='epoch', y = 'loss', data = train_df, kind = 'line')\n",
    "plt.show()\n"
   ]
  },
  {
   "cell_type": "markdown",
   "id": "a4939cda-86de-4d70-a235-f028a6ddb624",
   "metadata": {},
   "source": [
    "### Calculating success / metrics"
   ]
  },
  {
   "cell_type": "code",
   "execution_count": 208,
   "id": "87571be0-24d4-4a08-b1c8-c8cd8e8f732c",
   "metadata": {},
   "outputs": [
    {
     "name": "stdout",
     "output_type": "stream",
     "text": [
      "Validation Loss: 0.3304\n",
      "Validation Accuracy: 0.8719\n",
      "eval complete\n"
     ]
    }
   ],
   "source": [
    "# This is for module evaluation, we start by setting the model to evaluate mode\n",
    "model.eval()\n",
    "validation_loss = 0.0\n",
    "accuracy_metric.reset()\n",
    "\n",
    "with torch.no_grad():\n",
    "  \n",
    "  for features, labels in test_loader:\n",
    "      # forward\n",
    "      outputs = model(features)\n",
    "      # loss\n",
    "      loss = criterion(outputs, labels)\n",
    "      validation_loss += loss.item()\n",
    "      # update accuracy\n",
    "      accuracy_metric.update(outputs, labels)\n",
    "\n",
    "validation_loss_epoch = validation_loss/len(test_loader)\n",
    "validation_accuracy = accuracy_metric.compute()\n",
    "\n",
    "print(f\"Validation Loss: {validation_loss_epoch:.4f}\")\n",
    "print(f\"Validation Accuracy: {validation_accuracy:.4f}\")\n",
    "\n",
    "# set back to training mode\n",
    "model.train()\n",
    "# reset accuracy metrics \n",
    "accuracy_metric.reset()\n",
    "# Because I need extra help seeing if the task is done: \n",
    "print(\"eval complete\") "
   ]
  },
  {
   "cell_type": "markdown",
   "id": "7065e6c9-75b4-422f-b055-24dbad7859fe",
   "metadata": {},
   "source": [
    "### Running the machine on a sample"
   ]
  },
  {
   "cell_type": "code",
   "execution_count": 211,
   "id": "abacabd0-1a22-4097-8600-16c1a2fe6ba8",
   "metadata": {},
   "outputs": [],
   "source": [
    "clothing_labels = {\n",
    "    0 :\"T-shirt/top\",\n",
    "    1 :\"Trouser\",\n",
    "    2 :\"Pullover\",\n",
    "    3 :\"Dress\",\n",
    "    4 :\"Coat\",\n",
    "    5 :\"Sandal\",\n",
    "    6 :\"Shirt\",\n",
    "    7 :\"Sneaker\",\n",
    "    8 :\"Bag\",\n",
    "    9 :\"Ankle boot\",\n",
    "}\n"
   ]
  },
  {
   "cell_type": "code",
   "execution_count": 213,
   "id": "034417d0-e49a-4398-9fb1-241035c63745",
   "metadata": {},
   "outputs": [],
   "source": [
    "# Choose a sample! \n",
    "sample_index = 3668 "
   ]
  },
  {
   "cell_type": "code",
   "execution_count": 215,
   "id": "322456fa-b5ed-4b7d-a641-cf25bb304e04",
   "metadata": {},
   "outputs": [],
   "source": [
    "# visualising the image before running it:\n",
    "sample_features = features_tensor_test[sample_index]\n",
    "sample_label = target_tensor_test[sample_index]\n",
    "# Batch dimensions is a big problem\n",
    "sample_features = sample_features.unsqueeze(0)"
   ]
  },
  {
   "cell_type": "code",
   "execution_count": 217,
   "id": "6b7afef9-6764-43c6-b18f-cd7067f023fe",
   "metadata": {},
   "outputs": [
    {
     "name": "stdout",
     "output_type": "stream",
     "text": [
      "You have picked a Sneaker\n"
     ]
    },
    {
     "data": {
      "image/png": "[encoded data removed]",
      "text/plain": [
       "<Figure size 640x480 with 1 Axes>"
      ]
     },
     "metadata": {},
     "output_type": "display_data"
    }
   ],
   "source": [
    "if sample_features.shape[1] == 784:  # Assuming 28x28 images flattened to 784\n",
    "    plt.imshow(sample_features.view(28, 28).numpy(), cmap='gray')\n",
    "    print(f\"You have picked a {clothing_labels[sample_label.item()]}\")\n",
    "    plt.show()"
   ]
  },
  {
   "cell_type": "code",
   "execution_count": 219,
   "id": "eced18c5-746a-49a7-ad2c-503ac5685d64",
   "metadata": {},
   "outputs": [],
   "source": [
    "# Set the model to evaluation mode\n",
    "model.eval()\n",
    "\n",
    "# Disable gradient computation\n",
    "with torch.no_grad():\n",
    "    outputs = model(sample_features)  # Forward pass\n",
    "    probabilities = F.softmax(outputs, dim=1)  # Convert logits to probabilities\n",
    "    predicted_class = torch.argmax(probabilities, dim=1).item()"
   ]
  },
  {
   "cell_type": "code",
   "execution_count": 221,
   "id": "fb21a21f-35e0-453a-90e3-ba96b9bf8b5f",
   "metadata": {},
   "outputs": [
    {
     "data": {
      "image/png": "[encoded data removed]",
      "text/plain": [
       "<Figure size 640x480 with 1 Axes>"
      ]
     },
     "metadata": {},
     "output_type": "display_data"
    }
   ],
   "source": [
    "# for visualising the image with tag\n",
    "if sample_features.shape[1] == 784:  # Assuming 28x28 images flattened to 784\n",
    "    plt.imshow(sample_features.view(28, 28).numpy(), cmap='gray')\n",
    "    plt.title(f\"Machine says: a {clothing_labels[predicted_class]}!\")\n",
    "    plt.show()"
   ]
  },
  {
   "cell_type": "code",
   "execution_count": null,
   "id": "d854b246-c73c-4288-85fe-4e8fb18ae31b",
   "metadata": {},
   "outputs": [],
   "source": []
  }
 ],
 "metadata": {
  "kernelspec": {
   "display_name": "Python 3 (ipykernel)",
   "language": "python",
   "name": "python3"
  },
  "language_info": {
   "codemirror_mode": {
    "name": "ipython",
    "version": 3
   },
   "file_extension": ".py",
   "mimetype": "text/x-python",
   "name": "python",
   "nbconvert_exporter": "python",
   "pygments_lexer": "ipython3",
   "version": "3.12.4"
  }
 },
 "nbformat": 4,
 "nbformat_minor": 5
}
